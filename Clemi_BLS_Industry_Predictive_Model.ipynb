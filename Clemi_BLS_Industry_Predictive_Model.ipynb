{
 "cells": [
  {
   "cell_type": "code",
   "execution_count": null,
   "metadata": {},
   "outputs": [],
   "source": [
    "#!pip install bls"
   ]
  },
  {
   "cell_type": "code",
   "execution_count": 1,
   "metadata": {},
   "outputs": [],
   "source": [
    "import requests\n",
    "import json"
   ]
  },
  {
   "cell_type": "code",
   "execution_count": null,
   "metadata": {},
   "outputs": [],
   "source": [
    "#!pip install PrettyTable"
   ]
  },
  {
   "cell_type": "code",
   "execution_count": null,
   "metadata": {},
   "outputs": [],
   "source": [
    "import prettytable"
   ]
  },
  {
   "cell_type": "markdown",
   "metadata": {},
   "source": [
    "Find different series codes and names at https://www.bls.gov/help/hlpforma.htm#jt"
   ]
  },
  {
   "cell_type": "markdown",
   "metadata": {},
   "source": [
    "JTU00000000HIL is the series ID for 'Job openings and labor turnover survey'  <br /> \n",
    "JTU00000000JOL is for job openings  <br /> "
   ]
  },
  {
   "attachments": {
    "image.png": {
     "image/png": "[encoded data removed]"
    }
   },
   "cell_type": "markdown",
   "metadata": {},
   "source": [
    "![image.png](attachment:image.png)"
   ]
  },
  {
   "cell_type": "markdown",
   "metadata": {},
   "source": [
    "List of industry codes can be found at https://download.bls.gov/pub/time.series/sm/sm.industry  <br /> \n",
    "List of state code can be found at https://download.bls.gov/pub/time.series/sm/sm.state  <br /> \n",
    "Series ID can be altered using the documentation at https://www.bls.gov/help/def/jt.htm#region  <br /> "
   ]
  },
  {
   "cell_type": "markdown",
   "metadata": {},
   "source": [
    "Rate - The job openings rate is computed by dividing the number of job openings by the sum of employment and job openings \n",
    "and multiplying that quotient by 100. All other data element rates (hires, total separations, quits, layoffs and discharges,\n",
    "and other separations) are computed by dividing the data element level by employment and multiplying that quotient by 100"
   ]
  },
  {
   "cell_type": "markdown",
   "metadata": {},
   "source": [
    "**Industry codes and name**  <br /> \n",
    "10000000   ---  Mining and Logging <br /> \n",
    "20000000   ---  Construction  <br /> \n",
    "30000000   ---  Durable Goods  <br /> \n",
    "40000000   ---  Trade, transportation and Utilities  <br /> \n",
    "50000000   ---  Information  <br /> \n",
    "60000000   ---  Professional and Business Services  <br /> \n",
    "70000000   ---  Leisure and Hospitality  <br /> \n",
    "80000000   ---  Other Services  (includes repair,maintenance, laundry services, personal care, advocacy, religious orgs..)  <br /> \n",
    "90000000   --- Government  <br /> \n",
    "\n",
    "source:https://download.bls.gov/pub/time.series/sm/sm.industry"
   ]
  },
  {
   "cell_type": "markdown",
   "metadata": {},
   "source": [
    "**Region Codes** <br/>\n",
    "00 -- Total US <br/>\n",
    "\n",
    "NE -- Northeast: Connecticut, Maine, Massachusetts, New Hampshire, New Jersey, New York, Pennsylvania, Rhode Island, and Vermont <br/>\n",
    "\n",
    "SO -- South: Alabama, Arkansas, Delaware, District of Columbia, Florida, Georgia, Kentucky, Louisiana, Maryland, Mississippi, North Carolina, Oklahoma, South Carolina, Tennessee, Texas, Virginia, and West Virginia <br/>\n",
    "\n",
    "MW -- Midwest: Illinois, Indiana, Iowa, Kansas, Michigan, Minnesota, Missouri, Nebraska, North Dakota, Ohio, South Dakota, and Wisconsin <br/>\n",
    "\n",
    "WE -- West: Alaska, Arizona, California, Colorado, Hawaii, Idaho, Montana, Nevada, New Mexico, Oregon, Utah, Washington, and Wyoming <br/>\n",
    "\n",
    "Source: https://download.bls.gov/pub/time.series/jt/jt.region"
   ]
  },
  {
   "cell_type": "code",
   "execution_count": 2,
   "metadata": {},
   "outputs": [],
   "source": [
    "from config import APIkey"
   ]
  },
  {
   "cell_type": "code",
   "execution_count": 3,
   "metadata": {},
   "outputs": [
    {
     "name": "stdout",
     "output_type": "stream",
     "text": [
      "{'status': 'REQUEST_SUCCEEDED', 'responseTime': 130, 'message': [], 'Results': {'series': [{'seriesID': 'JTU10000000JOR', 'data': [{'year': '2020', 'period': 'M05', 'periodName': 'May', 'latest': 'true', 'value': '4.0', 'footnotes': [{'code': 'P', 'text': 'preliminary'}]}, {'year': '2020', 'period': 'M04', 'periodName': 'April', 'value': '4.1', 'footnotes': [{}]}, {'year': '2020', 'period': 'M03', 'periodName': 'March', 'value': '3.9', 'footnotes': [{}]}, {'year': '2020', 'period': 'M02', 'periodName': 'February', 'value': '4.5', 'footnotes': [{}]}, {'year': '2020', 'period': 'M01', 'periodName': 'January', 'value': '4.6', 'footnotes': [{}]}]}]}}\n",
      "{'status': 'REQUEST_SUCCEEDED', 'responseTime': 102, 'message': ['Series does not exist for Series JTU20000000JOR'], 'Results': {'series': [{'seriesID': 'JTU20000000JOR', 'data': []}]}}\n",
      "{'status': 'REQUEST_SUCCEEDED', 'responseTime': 170, 'message': [], 'Results': {'series': [{'seriesID': 'JTU30000000JOR', 'data': [{'year': '2020', 'period': 'M05', 'periodName': 'May', 'latest': 'true', 'value': '2.7', 'footnotes': [{'code': 'P', 'text': 'preliminary'}]}, {'year': '2020', 'period': 'M04', 'periodName': 'April', 'value': '2.7', 'footnotes': [{}]}, {'year': '2020', 'period': 'M03', 'periodName': 'March', 'value': '2.4', 'footnotes': [{}]}, {'year': '2020', 'period': 'M02', 'periodName': 'February', 'value': '3.2', 'footnotes': [{}]}, {'year': '2020', 'period': 'M01', 'periodName': 'January', 'value': '3.1', 'footnotes': [{}]}]}]}}\n",
      "{'status': 'REQUEST_SUCCEEDED', 'responseTime': 173, 'message': [], 'Results': {'series': [{'seriesID': 'JTU40000000JOR', 'data': [{'year': '2020', 'period': 'M05', 'periodName': 'May', 'latest': 'true', 'value': '3.6', 'footnotes': [{'code': 'P', 'text': 'preliminary'}]}, {'year': '2020', 'period': 'M04', 'periodName': 'April', 'value': '3.3', 'footnotes': [{}]}, {'year': '2020', 'period': 'M03', 'periodName': 'March', 'value': '3.4', 'footnotes': [{}]}, {'year': '2020', 'period': 'M02', 'periodName': 'February', 'value': '3.7', 'footnotes': [{}]}, {'year': '2020', 'period': 'M01', 'periodName': 'January', 'value': '3.8', 'footnotes': [{}]}]}]}}\n",
      "{'status': 'REQUEST_SUCCEEDED', 'responseTime': 100, 'message': ['Series does not exist for Series JTU50000000JOR'], 'Results': {'series': [{'seriesID': 'JTU50000000JOR', 'data': []}]}}\n",
      "{'status': 'REQUEST_SUCCEEDED', 'responseTime': 127, 'message': [], 'Results': {'series': [{'seriesID': 'JTU60000000JOR', 'data': [{'year': '2020', 'period': 'M05', 'periodName': 'May', 'latest': 'true', 'value': '4.0', 'footnotes': [{'code': 'P', 'text': 'preliminary'}]}, {'year': '2020', 'period': 'M04', 'periodName': 'April', 'value': '5.0', 'footnotes': [{}]}, {'year': '2020', 'period': 'M03', 'periodName': 'March', 'value': '4.6', 'footnotes': [{}]}, {'year': '2020', 'period': 'M02', 'periodName': 'February', 'value': '4.7', 'footnotes': [{}]}, {'year': '2020', 'period': 'M01', 'periodName': 'January', 'value': '5.4', 'footnotes': [{}]}]}]}}\n",
      "{'status': 'REQUEST_SUCCEEDED', 'responseTime': 95, 'message': [], 'Results': {'series': [{'seriesID': 'JTU70000000JOR', 'data': [{'year': '2020', 'period': 'M05', 'periodName': 'May', 'latest': 'true', 'value': '5.7', 'footnotes': [{'code': 'P', 'text': 'preliminary'}]}, {'year': '2020', 'period': 'M04', 'periodName': 'April', 'value': '5.5', 'footnotes': [{}]}, {'year': '2020', 'period': 'M03', 'periodName': 'March', 'value': '4.1', 'footnotes': [{}]}, {'year': '2020', 'period': 'M02', 'periodName': 'February', 'value': '5.5', 'footnotes': [{}]}, {'year': '2020', 'period': 'M01', 'periodName': 'January', 'value': '5.1', 'footnotes': [{}]}]}]}}\n",
      "{'status': 'REQUEST_SUCCEEDED', 'responseTime': 128, 'message': ['Series does not exist for Series JTU80000000JOR'], 'Results': {'series': [{'seriesID': 'JTU80000000JOR', 'data': []}]}}\n",
      "{'status': 'REQUEST_SUCCEEDED', 'responseTime': 143, 'message': [], 'Results': {'series': [{'seriesID': 'JTU90000000JOR', 'data': [{'year': '2020', 'period': 'M05', 'periodName': 'May', 'latest': 'true', 'value': '2.9', 'footnotes': [{'code': 'P', 'text': 'preliminary'}]}, {'year': '2020', 'period': 'M04', 'periodName': 'April', 'value': '2.8', 'footnotes': [{}]}, {'year': '2020', 'period': 'M03', 'periodName': 'March', 'value': '3.0', 'footnotes': [{}]}, {'year': '2020', 'period': 'M02', 'periodName': 'February', 'value': '3.2', 'footnotes': [{}]}, {'year': '2020', 'period': 'M01', 'periodName': 'January', 'value': '3.2', 'footnotes': [{'code': 'C', 'text': 'corrected'}]}]}]}}\n"
     ]
    }
   ],
   "source": [
    "codes=['10000000','20000000','30000000','40000000','50000000','60000000','70000000','80000000','90000000']\n",
    "jsons=[]\n",
    "for code in codes:\n",
    "    headers = {'Content-type': 'application/json'}\n",
    "    data = json.dumps({'seriesid':['JTU'+code+'JOR'],'startyear':'2020','endyear':'2020','registrationkey':APIkey})\n",
    "    p = requests.post('https://api.bls.gov/publicAPI/v2/timeseries/data/', data=data, headers=headers)\n",
    "    json_data = json.loads(p.text)\n",
    "    print(json_data)\n",
    "    jsons.append(json_data)\n"
   ]
  },
  {
   "cell_type": "code",
   "execution_count": 27,
   "metadata": {},
   "outputs": [
    {
     "name": "stdout",
     "output_type": "stream",
     "text": [
      "Series does not exist for Series JTU20000000JOR\n",
      "Series does not exist for Series JTU50000000JOR\n",
      "Series does not exist for Series JTU80000000JOR\n"
     ]
    }
   ],
   "source": [
    "ignore=[]\n",
    "i=0\n",
    "while i < len(jsons):\n",
    "    for series in jsons[i]['message']:\n",
    "        print(series)\n",
    "        ignore.append(series)\n",
    "    i=i+1\n",
    "    "
   ]
  },
  {
   "cell_type": "code",
   "execution_count": 28,
   "metadata": {},
   "outputs": [
    {
     "data": {
      "text/plain": [
       "['Series does not exist for Series JTU20000000JOR',\n",
       " 'Series does not exist for Series JTU50000000JOR',\n",
       " 'Series does not exist for Series JTU80000000JOR']"
      ]
     },
     "execution_count": 28,
     "metadata": {},
     "output_type": "execute_result"
    }
   ],
   "source": [
    "ignore"
   ]
  },
  {
   "cell_type": "code",
   "execution_count": 32,
   "metadata": {},
   "outputs": [],
   "source": [
    "i=0\n",
    "while i < len(jsons):\n",
    "    for series in jsons[i]['message']:\n",
    "        if series not in ignore:\n",
    "            print(json[i]['Results']['series'])\n",
    "    i=i+1\n"
   ]
  },
  {
   "cell_type": "code",
   "execution_count": null,
   "metadata": {},
   "outputs": [],
   "source": []
  },
  {
   "cell_type": "code",
   "execution_count": null,
   "metadata": {},
   "outputs": [],
   "source": []
  },
  {
   "cell_type": "code",
   "execution_count": 5,
   "metadata": {},
   "outputs": [],
   "source": [
    "ID=[]\n",
    "yr=[]\n",
    "month=[]\n",
    "val=[]\n"
   ]
  },
  {
   "cell_type": "code",
   "execution_count": 6,
   "metadata": {},
   "outputs": [],
   "source": [
    "i=0\n",
    "while i < len(jsons):\n",
    "    for  series in jsons[i]['Results']['series']:\n",
    "        seriesId = series['seriesID']\n",
    "        ID.append(seriesId)\n",
    "        for item in series['data']:\n",
    "            year = item['year']\n",
    "            yr.append(year)\n",
    "            period = item['period']\n",
    "            month.append(period)\n",
    "            value = item['value']\n",
    "            val.append(value)\n",
    "            S_ID=ID*len(yr)\n",
    "        i=i+1\n",
    "\n",
    "\n"
   ]
  },
  {
   "cell_type": "code",
   "execution_count": null,
   "metadata": {},
   "outputs": [],
   "source": [
    "import pandas as pd\n",
    "from pandas import DataFrame\n"
   ]
  },
  {
   "cell_type": "code",
   "execution_count": null,
   "metadata": {},
   "outputs": [],
   "source": [
    "items={'ID':S_ID,'year':yr,'month':month,'Job_Opening_Rate':val}"
   ]
  },
  {
   "cell_type": "code",
   "execution_count": null,
   "metadata": {},
   "outputs": [],
   "source": [
    "items"
   ]
  },
  {
   "cell_type": "code",
   "execution_count": null,
   "metadata": {},
   "outputs": [],
   "source": [
    "df=pd.DataFrame.from_dict(items)"
   ]
  },
  {
   "cell_type": "code",
   "execution_count": null,
   "metadata": {},
   "outputs": [],
   "source": []
  },
  {
   "cell_type": "code",
   "execution_count": null,
   "metadata": {},
   "outputs": [],
   "source": [
    "df"
   ]
  },
  {
   "cell_type": "code",
   "execution_count": null,
   "metadata": {},
   "outputs": [],
   "source": []
  },
  {
   "cell_type": "code",
   "execution_count": null,
   "metadata": {},
   "outputs": [],
   "source": []
  },
  {
   "cell_type": "code",
   "execution_count": null,
   "metadata": {},
   "outputs": [],
   "source": []
  },
  {
   "cell_type": "code",
   "execution_count": null,
   "metadata": {},
   "outputs": [],
   "source": []
  }
 ],
 "metadata": {
  "kernelspec": {
   "display_name": "Python 3",
   "language": "python",
   "name": "python3"
  },
  "language_info": {
   "codemirror_mode": {
    "name": "ipython",
    "version": 3
   },
   "file_extension": ".py",
   "mimetype": "text/x-python",
   "name": "python",
   "nbconvert_exporter": "python",
   "pygments_lexer": "ipython3",
   "version": "3.7.4"
  }
 },
 "nbformat": 4,
 "nbformat_minor": 2
}
