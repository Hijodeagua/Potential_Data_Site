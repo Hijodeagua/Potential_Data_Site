{
 "cells": [
  {
   "cell_type": "code",
   "execution_count": 10,
   "metadata": {},
   "outputs": [],
   "source": [
    "import json\n",
    "import pandas as pd"
   ]
  },
  {
   "cell_type": "code",
   "execution_count": 11,
   "metadata": {},
   "outputs": [],
   "source": [
    "# Opening JSON file \n",
    "f = open('state_covid_daily.json',)\n",
    "# returns JSON object as  \n",
    "# a dictionary \n",
    "data = json.load(f) "
   ]
  },
  {
   "cell_type": "code",
   "execution_count": 12,
   "metadata": {},
   "outputs": [],
   "source": [
    "state_COVID=[]\n",
    "# Iterating through the json \n",
    "# list \n",
    "for i in data: \n",
    "    #print(i)\n",
    "    state_COVID.append(i)"
   ]
  },
  {
   "cell_type": "code",
   "execution_count": 13,
   "metadata": {},
   "outputs": [],
   "source": [
    "# Closing file \n",
    "f.close() "
   ]
  },
  {
   "cell_type": "code",
   "execution_count": 14,
   "metadata": {},
   "outputs": [
    {
     "data": {
      "text/html": [
       "<div>\n",
       "<style scoped>\n",
       "    .dataframe tbody tr th:only-of-type {\n",
       "        vertical-align: middle;\n",
       "    }\n",
       "\n",
       "    .dataframe tbody tr th {\n",
       "        vertical-align: top;\n",
       "    }\n",
       "\n",
       "    .dataframe thead th {\n",
       "        text-align: right;\n",
       "    }\n",
       "</style>\n",
       "<table border=\"1\" class=\"dataframe\">\n",
       "  <thead>\n",
       "    <tr style=\"text-align: right;\">\n",
       "      <th></th>\n",
       "      <th>date</th>\n",
       "      <th>State</th>\n",
       "      <th>cases</th>\n",
       "      <th>deaths</th>\n",
       "    </tr>\n",
       "  </thead>\n",
       "  <tbody>\n",
       "    <tr>\n",
       "      <td>0</td>\n",
       "      <td>07/30/2020</td>\n",
       "      <td>Minnesota</td>\n",
       "      <td>53732</td>\n",
       "      <td>1634</td>\n",
       "    </tr>\n",
       "    <tr>\n",
       "      <td>1</td>\n",
       "      <td>07/29/2020</td>\n",
       "      <td>Minnesota</td>\n",
       "      <td>52987</td>\n",
       "      <td>1629</td>\n",
       "    </tr>\n",
       "    <tr>\n",
       "      <td>2</td>\n",
       "      <td>07/28/2020</td>\n",
       "      <td>Minnesota</td>\n",
       "      <td>52321</td>\n",
       "      <td>1620</td>\n",
       "    </tr>\n",
       "    <tr>\n",
       "      <td>3</td>\n",
       "      <td>07/27/2020</td>\n",
       "      <td>Minnesota</td>\n",
       "      <td>51843</td>\n",
       "      <td>1616</td>\n",
       "    </tr>\n",
       "    <tr>\n",
       "      <td>4</td>\n",
       "      <td>07/26/2020</td>\n",
       "      <td>Minnesota</td>\n",
       "      <td>51193</td>\n",
       "      <td>1614</td>\n",
       "    </tr>\n",
       "  </tbody>\n",
       "</table>\n",
       "</div>"
      ],
      "text/plain": [
       "         date      State  cases  deaths\n",
       "0  07/30/2020  Minnesota  53732    1634\n",
       "1  07/29/2020  Minnesota  52987    1629\n",
       "2  07/28/2020  Minnesota  52321    1620\n",
       "3  07/27/2020  Minnesota  51843    1616\n",
       "4  07/26/2020  Minnesota  51193    1614"
      ]
     },
     "execution_count": 14,
     "metadata": {},
     "output_type": "execute_result"
    }
   ],
   "source": [
    "state_COVID_df=pd.DataFrame(state_COVID)\n",
    "new_state_covid=state_COVID_df[[\"date\",\"State\",\"cases\",\"deaths\"]]\n",
    "new_state_covid.head(5)\n"
   ]
  },
  {
   "cell_type": "code",
   "execution_count": 15,
   "metadata": {},
   "outputs": [
    {
     "name": "stderr",
     "output_type": "stream",
     "text": [
      "C:\\Users\\clemi\\Anaconda3\\lib\\site-packages\\ipykernel_launcher.py:1: SettingWithCopyWarning: \n",
      "A value is trying to be set on a copy of a slice from a DataFrame.\n",
      "Try using .loc[row_indexer,col_indexer] = value instead\n",
      "\n",
      "See the caveats in the documentation: http://pandas.pydata.org/pandas-docs/stable/user_guide/indexing.html#returning-a-view-versus-a-copy\n",
      "  \"\"\"Entry point for launching an IPython kernel.\n"
     ]
    }
   ],
   "source": [
    "new_state_covid['date'] = pd.to_datetime(new_state_covid['date'])"
   ]
  },
  {
   "cell_type": "code",
   "execution_count": 16,
   "metadata": {},
   "outputs": [
    {
     "data": {
      "text/html": [
       "<div>\n",
       "<style scoped>\n",
       "    .dataframe tbody tr th:only-of-type {\n",
       "        vertical-align: middle;\n",
       "    }\n",
       "\n",
       "    .dataframe tbody tr th {\n",
       "        vertical-align: top;\n",
       "    }\n",
       "\n",
       "    .dataframe thead th {\n",
       "        text-align: right;\n",
       "    }\n",
       "</style>\n",
       "<table border=\"1\" class=\"dataframe\">\n",
       "  <thead>\n",
       "    <tr style=\"text-align: right;\">\n",
       "      <th></th>\n",
       "      <th>date</th>\n",
       "      <th>State</th>\n",
       "      <th>cases</th>\n",
       "      <th>deaths</th>\n",
       "    </tr>\n",
       "  </thead>\n",
       "  <tbody>\n",
       "    <tr>\n",
       "      <td>0</td>\n",
       "      <td>2020-07-30</td>\n",
       "      <td>Minnesota</td>\n",
       "      <td>53732</td>\n",
       "      <td>1634</td>\n",
       "    </tr>\n",
       "    <tr>\n",
       "      <td>1</td>\n",
       "      <td>2020-07-29</td>\n",
       "      <td>Minnesota</td>\n",
       "      <td>52987</td>\n",
       "      <td>1629</td>\n",
       "    </tr>\n",
       "    <tr>\n",
       "      <td>2</td>\n",
       "      <td>2020-07-28</td>\n",
       "      <td>Minnesota</td>\n",
       "      <td>52321</td>\n",
       "      <td>1620</td>\n",
       "    </tr>\n",
       "    <tr>\n",
       "      <td>3</td>\n",
       "      <td>2020-07-27</td>\n",
       "      <td>Minnesota</td>\n",
       "      <td>51843</td>\n",
       "      <td>1616</td>\n",
       "    </tr>\n",
       "    <tr>\n",
       "      <td>4</td>\n",
       "      <td>2020-07-26</td>\n",
       "      <td>Minnesota</td>\n",
       "      <td>51193</td>\n",
       "      <td>1614</td>\n",
       "    </tr>\n",
       "    <tr>\n",
       "      <td>...</td>\n",
       "      <td>...</td>\n",
       "      <td>...</td>\n",
       "      <td>...</td>\n",
       "      <td>...</td>\n",
       "    </tr>\n",
       "    <tr>\n",
       "      <td>8259</td>\n",
       "      <td>2020-01-28</td>\n",
       "      <td>Illinois</td>\n",
       "      <td>1</td>\n",
       "      <td>0</td>\n",
       "    </tr>\n",
       "    <tr>\n",
       "      <td>8260</td>\n",
       "      <td>2020-01-27</td>\n",
       "      <td>Illinois</td>\n",
       "      <td>1</td>\n",
       "      <td>0</td>\n",
       "    </tr>\n",
       "    <tr>\n",
       "      <td>8261</td>\n",
       "      <td>2020-01-26</td>\n",
       "      <td>Illinois</td>\n",
       "      <td>1</td>\n",
       "      <td>0</td>\n",
       "    </tr>\n",
       "    <tr>\n",
       "      <td>8262</td>\n",
       "      <td>2020-01-25</td>\n",
       "      <td>Illinois</td>\n",
       "      <td>1</td>\n",
       "      <td>0</td>\n",
       "    </tr>\n",
       "    <tr>\n",
       "      <td>8263</td>\n",
       "      <td>2020-01-24</td>\n",
       "      <td>Illinois</td>\n",
       "      <td>1</td>\n",
       "      <td>0</td>\n",
       "    </tr>\n",
       "  </tbody>\n",
       "</table>\n",
       "<p>8264 rows × 4 columns</p>\n",
       "</div>"
      ],
      "text/plain": [
       "           date      State  cases  deaths\n",
       "0    2020-07-30  Minnesota  53732    1634\n",
       "1    2020-07-29  Minnesota  52987    1629\n",
       "2    2020-07-28  Minnesota  52321    1620\n",
       "3    2020-07-27  Minnesota  51843    1616\n",
       "4    2020-07-26  Minnesota  51193    1614\n",
       "...         ...        ...    ...     ...\n",
       "8259 2020-01-28   Illinois      1       0\n",
       "8260 2020-01-27   Illinois      1       0\n",
       "8261 2020-01-26   Illinois      1       0\n",
       "8262 2020-01-25   Illinois      1       0\n",
       "8263 2020-01-24   Illinois      1       0\n",
       "\n",
       "[8264 rows x 4 columns]"
      ]
     },
     "execution_count": 16,
     "metadata": {},
     "output_type": "execute_result"
    }
   ],
   "source": [
    "new_state_covid"
   ]
  },
  {
   "cell_type": "code",
   "execution_count": 17,
   "metadata": {},
   "outputs": [],
   "source": [
    "timeseries_json=new_state_covid.to_json(orient='records')\n",
    "parsed=json.loads(timeseries_json)"
   ]
  },
  {
   "cell_type": "code",
   "execution_count": 18,
   "metadata": {},
   "outputs": [],
   "source": [
    "with open('timeseries.json', 'w') as f:\n",
    "    json.dump(parsed, f, indent=4)"
   ]
  },
  {
   "cell_type": "code",
   "execution_count": 20,
   "metadata": {},
   "outputs": [],
   "source": [
    "from flask_pymongo import PyMongo\n",
    "from config import mongoURL \n",
    "\n",
    "from pymongo import MongoClient\n",
    "import json\n",
    "# client = MongoClient('localhost', 27017)\n",
    "client = MongoClient(mongoURL)"
   ]
  },
  {
   "cell_type": "code",
   "execution_count": 21,
   "metadata": {},
   "outputs": [
    {
     "data": {
      "text/plain": [
       "<pymongo.results.InsertManyResult at 0x2c1da301888>"
      ]
     },
     "execution_count": 21,
     "metadata": {},
     "output_type": "execute_result"
    }
   ],
   "source": [
    "timeseries_db = client['timeseries_db']\n",
    "collection_timeseries = timeseries_db['timeseries_covid']\n",
    "# # Inserting state data\n",
    "with open('timeseries.json') as f:\n",
    "    timeseries_data = json.load(f)\n",
    "collection_timeseries.insert_many(timeseries_data)"
   ]
  },
  {
   "cell_type": "code",
   "execution_count": null,
   "metadata": {},
   "outputs": [],
   "source": []
  }
 ],
 "metadata": {
  "kernelspec": {
   "display_name": "Python 3",
   "language": "python",
   "name": "python3"
  },
  "language_info": {
   "codemirror_mode": {
    "name": "ipython",
    "version": 3
   },
   "file_extension": ".py",
   "mimetype": "text/x-python",
   "name": "python",
   "nbconvert_exporter": "python",
   "pygments_lexer": "ipython3",
   "version": "3.7.4"
  }
 },
 "nbformat": 4,
 "nbformat_minor": 2
}
