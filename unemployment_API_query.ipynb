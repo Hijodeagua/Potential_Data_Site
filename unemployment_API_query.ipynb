{
 "cells": [
  {
   "cell_type": "code",
   "execution_count": 2,
   "metadata": {},
   "outputs": [
    {
     "name": "stdout",
     "output_type": "stream",
     "text": [
      "Collecting prettytable\n",
      "  Downloading https://files.pythonhosted.org/packages/ef/30/4b0746848746ed5941f052479e7c23d2b56d174b82f4fd34a25e389831f5/prettytable-0.7.2.tar.bz2\n",
      "Building wheels for collected packages: prettytable\n",
      "  Building wheel for prettytable (setup.py): started\n",
      "  Building wheel for prettytable (setup.py): finished with status 'done'\n",
      "  Created wheel for prettytable: filename=prettytable-0.7.2-cp37-none-any.whl size=13706 sha256=8cd1107b7cc8bcacf450df52a34ea12c5f795d265588d203b411930dc0187112\n",
      "  Stored in directory: C:\\Users\\Chris\\AppData\\Local\\pip\\Cache\\wheels\\80\\34\\1c\\3967380d9676d162cb59513bd9dc862d0584e045a162095606\n",
      "Successfully built prettytable\n",
      "Installing collected packages: prettytable\n",
      "Successfully installed prettytable-0.7.2\n"
     ]
    }
   ],
   "source": [
    "#!pip install prettytable\n",
    "import requests\n",
    "import json\n",
    "import prettytable"
   ]
  },
  {
   "cell_type": "code",
   "execution_count": 3,
   "metadata": {},
   "outputs": [],
   "source": [
    "headers = {'Content-type': 'application/json'}\n",
    "data = json.dumps({\"seriesid\": ['CUUR0000SA0','SUUR0000SA0'],\"startyear\":\"2011\", \"endyear\":\"2014\"})\n",
    "p = requests.post('https://api.bls.gov/publicAPI/v2/timeseries/data/', data=data, headers=headers)\n",
    "json_data = json.loads(p.text)"
   ]
  },
  {
   "cell_type": "code",
   "execution_count": 10,
   "metadata": {},
   "outputs": [
    {
     "name": "stdout",
     "output_type": "stream",
     "text": [
      "+-------------+------+--------+---------+-----------+\n",
      "|  series id  | year | period |  value  | footnotes |\n",
      "+-------------+------+--------+---------+-----------+\n",
      "| SUUR0000SA0 | 2014 |  M12   | 134.207 |           |\n",
      "| SUUR0000SA0 | 2014 |  M11   | 135.107 |           |\n",
      "| SUUR0000SA0 | 2014 |  M10   | 135.891 |           |\n",
      "| SUUR0000SA0 | 2014 |  M09   | 136.211 |           |\n",
      "| SUUR0000SA0 | 2014 |  M08   | 136.127 |           |\n",
      "| SUUR0000SA0 | 2014 |  M07   | 136.392 |           |\n",
      "| SUUR0000SA0 | 2014 |  M06   | 136.433 |           |\n",
      "| SUUR0000SA0 | 2014 |  M05   | 136.216 |           |\n",
      "| SUUR0000SA0 | 2014 |  M04   | 135.771 |           |\n",
      "| SUUR0000SA0 | 2014 |  M03   | 135.375 |           |\n",
      "| SUUR0000SA0 | 2014 |  M02   | 134.542 |           |\n",
      "| SUUR0000SA0 | 2014 |  M01   | 134.017 |           |\n",
      "| SUUR0000SA0 | 2013 |  M12   | 133.509 |           |\n",
      "| SUUR0000SA0 | 2013 |  M11   | 133.596 |           |\n",
      "| SUUR0000SA0 | 2013 |  M10   | 133.876 |           |\n",
      "| SUUR0000SA0 | 2013 |  M09   | 134.255 |           |\n",
      "| SUUR0000SA0 | 2013 |  M08   | 134.098 |           |\n",
      "| SUUR0000SA0 | 2013 |  M07   | 133.919 |           |\n",
      "| SUUR0000SA0 | 2013 |  M06   | 133.900 |           |\n",
      "| SUUR0000SA0 | 2013 |  M05   | 133.626 |           |\n",
      "| SUUR0000SA0 | 2013 |  M04   | 133.421 |           |\n",
      "| SUUR0000SA0 | 2013 |  M03   | 133.558 |           |\n",
      "| SUUR0000SA0 | 2013 |  M02   | 133.204 |           |\n",
      "| SUUR0000SA0 | 2013 |  M01   | 132.137 |           |\n",
      "| SUUR0000SA0 | 2012 |  M12   | 131.770 |           |\n",
      "| SUUR0000SA0 | 2012 |  M11   | 132.208 |           |\n",
      "| SUUR0000SA0 | 2012 |  M10   | 132.892 |           |\n",
      "| SUUR0000SA0 | 2012 |  M09   | 132.988 |           |\n",
      "| SUUR0000SA0 | 2012 |  M08   | 132.430 |           |\n",
      "| SUUR0000SA0 | 2012 |  M07   | 131.731 |           |\n",
      "| SUUR0000SA0 | 2012 |  M06   | 131.956 |           |\n",
      "| SUUR0000SA0 | 2012 |  M05   | 132.154 |           |\n",
      "| SUUR0000SA0 | 2012 |  M04   | 132.284 |           |\n",
      "| SUUR0000SA0 | 2012 |  M03   | 131.905 |           |\n",
      "| SUUR0000SA0 | 2012 |  M02   | 130.953 |           |\n",
      "| SUUR0000SA0 | 2012 |  M01   | 130.438 |           |\n",
      "| SUUR0000SA0 | 2011 |  M12   | 129.844 |           |\n",
      "| SUUR0000SA0 | 2011 |  M11   | 130.196 |           |\n",
      "| SUUR0000SA0 | 2011 |  M10   | 130.373 |           |\n",
      "| SUUR0000SA0 | 2011 |  M09   | 130.635 |           |\n",
      "| SUUR0000SA0 | 2011 |  M08   | 130.351 |           |\n",
      "| SUUR0000SA0 | 2011 |  M07   | 129.983 |           |\n",
      "| SUUR0000SA0 | 2011 |  M06   | 129.846 |           |\n",
      "| SUUR0000SA0 | 2011 |  M05   | 129.999 |           |\n",
      "| SUUR0000SA0 | 2011 |  M04   | 129.483 |           |\n",
      "| SUUR0000SA0 | 2011 |  M03   | 128.585 |           |\n",
      "| SUUR0000SA0 | 2011 |  M02   | 127.363 |           |\n",
      "| SUUR0000SA0 | 2011 |  M01   | 126.778 |           |\n",
      "+-------------+------+--------+---------+-----------+\n"
     ]
    }
   ],
   "source": [
    "for series in json_data['Results']['series']:\n",
    "    x=prettytable.PrettyTable([\"series id\",\"year\",\"period\",\"value\",\"footnotes\"])\n",
    "    seriesId = series['seriesID']\n",
    "    for item in series['data']:\n",
    "        year = item['year']\n",
    "        period = item['period']\n",
    "        value = item['value']\n",
    "        footnotes=\"\"\n",
    "        for footnote in item['footnotes']:\n",
    "            if footnote:\n",
    "                footnotes = footnotes + footnote['text'] + ','\n",
    "            if 'M01' <= period <= 'M12':\n",
    "                x.add_row([seriesId,year,period,value,footnotes[0:-1]])\n",
    "    output = open(seriesId + '.txt','w')\n",
    "    output.write (x.get_string())\n",
    "    output.close()\n",
    "print(x)"
   ]
  }
 ],
 "metadata": {
  "kernelspec": {
   "display_name": "Python 3",
   "language": "python",
   "name": "python3"
  },
  "language_info": {
   "codemirror_mode": {
    "name": "ipython",
    "version": 3
   },
   "file_extension": ".py",
   "mimetype": "text/x-python",
   "name": "python",
   "nbconvert_exporter": "python",
   "pygments_lexer": "ipython3",
   "version": "3.7.4"
  }
 },
 "nbformat": 4,
 "nbformat_minor": 2
}
